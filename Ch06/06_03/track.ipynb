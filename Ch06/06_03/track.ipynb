{
 "cells": [
  {
   "cell_type": "markdown",
   "id": "abd119de-5319-43c1-8866-fdbad80616ac",
   "metadata": {},
   "source": [
    "# Calculate Running Speed"
   ]
  },
  {
   "cell_type": "code",
   "execution_count": 1,
   "id": "9a86be15-068f-4e79-8c09-042e8d7ea8b0",
   "metadata": {},
   "outputs": [],
   "source": [
    "import pandas as pd\n",
    "from os import environ\n",
    "\n",
    "import tracklib"
   ]
  },
  {
   "cell_type": "code",
   "execution_count": 3,
   "id": "b1d2c42f-70fb-4258-9221-4bca2a768d6e",
   "metadata": {},
   "outputs": [
    {
     "name": "stdout",
     "output_type": "stream",
     "text": [
      "9.58044454743704\n"
     ]
    }
   ],
   "source": [
    "csv_file = environ.get('CSV_FILE', 'track.csv')\n",
    "df = tracklib.load_csv(csv_file)\n",
    "speed_kmh = tracklib.running_speed(df)\n",
    "print(speed_kmh.mean())"
   ]
  }
 ],
 "metadata": {
  "kernelspec": {
   "display_name": "Python 3 (ipykernel)",
   "language": "python",
   "name": "python3"
  },
  "language_info": {
   "codemirror_mode": {
    "name": "ipython",
    "version": 3
   },
   "file_extension": ".py",
   "mimetype": "text/x-python",
   "name": "python",
   "nbconvert_exporter": "python",
   "pygments_lexer": "ipython3",
   "version": "3.10.4"
  }
 },
 "nbformat": 4,
 "nbformat_minor": 5
}
