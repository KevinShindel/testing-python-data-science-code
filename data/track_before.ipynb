{
 "cells": [
  {
   "cell_type": "markdown",
   "id": "abd119de-5319-43c1-8866-fdbad80616ac",
   "metadata": {},
   "source": [
    "# Calculate Running Speed"
   ]
  },
  {
   "cell_type": "markdown",
   "id": "d423b72a-e2bd-4c32-add6-297ee43f423f",
   "metadata": {},
   "source": [
    "## Load Data"
   ]
  },
  {
   "cell_type": "code",
   "execution_count": 10,
   "id": "9a86be15-068f-4e79-8c09-042e8d7ea8b0",
   "metadata": {},
   "outputs": [],
   "source": [
    "import pandas as pd\n",
    "from os import environ"
   ]
  },
  {
   "cell_type": "code",
   "execution_count": 11,
   "id": "b1d2c42f-70fb-4258-9221-4bca2a768d6e",
   "metadata": {},
   "outputs": [],
   "source": [
    "csv_file = environ.get('CSV_FILE', 'track.csv')\n",
    "df = pd.read_csv(csv_file, parse_dates=['time'])"
   ]
  },
  {
   "cell_type": "markdown",
   "id": "80004a1e-c15d-4a1b-a41a-ee4ee4f149a3",
   "metadata": {},
   "source": [
    "## Calculate Speed\n",
    "\n",
    "For simplicity, we're using Euclidean distance."
   ]
  },
  {
   "cell_type": "code",
   "execution_count": 5,
   "id": "4b2b73fa-7088-4dfd-800e-5bc613a6428a",
   "metadata": {},
   "outputs": [],
   "source": [
    "import numpy as np\n",
    "\n",
    "lat1, lat2 = df['lat'], df['lat'].shift()\n",
    "lng1, lng2 = df['lng'], df['lng'].shift()\n",
    "\n",
    "\n",
    "lat_km = 92\n",
    "lng_km = 111\n",
    "\n",
    "delta_lat = (lat1 - lat2) * lat_km\n",
    "delta_lng = (lng1 - lng2) * lng_km\n",
    "dist_km = np.hypot(delta_lat, delta_lng)"
   ]
  },
  {
   "cell_type": "markdown",
   "id": "90524989-d517-4189-87a0-812f0a0c90f3",
   "metadata": {},
   "source": [
    "## Calculate Time & Speed"
   ]
  },
  {
   "cell_type": "code",
   "execution_count": 6,
   "id": "8298d052-624d-444b-b862-6721c2de35a1",
   "metadata": {},
   "outputs": [],
   "source": [
    "duration = df['time'].diff()\n",
    "duration_hours = duration / pd.Timedelta(hours=1)\n",
    "speed_kmh = dist_km / duration_hours"
   ]
  },
  {
   "cell_type": "markdown",
   "id": "808cdec4-f6fe-4fff-9356-371900e6fdcb",
   "metadata": {},
   "source": [
    "## Display Average Speed"
   ]
  },
  {
   "cell_type": "code",
   "execution_count": 13,
   "id": "1db39f43-46dd-4c33-8347-52235a2d090c",
   "metadata": {},
   "outputs": [
    {
     "data": {
      "text/plain": [
       "9.58044454743704"
      ]
     },
     "execution_count": 13,
     "metadata": {},
     "output_type": "execute_result"
    }
   ],
   "source": [
    "speed_kmh.mean()"
   ]
  },
  {
   "cell_type": "markdown",
   "id": "7dd567b2-5494-441d-9344-41e69cb0286f",
   "metadata": {},
   "source": [
    "## Test Output"
   ]
  },
  {
   "cell_type": "code",
   "execution_count": 14,
   "id": "96ef0dcb-2de8-47e5-9314-1f87e75baf72",
   "metadata": {},
   "outputs": [],
   "source": [
    "import json\n",
    "\n",
    "out_file = environ.get('OUT_FILE')\n",
    "if out_file:\n",
    "    response = {'mean_speed': speed_kmh.mean()}\n",
    "    with open(out_file, 'w') as out:\n",
    "        json.dump(response, out)"
   ]
  }
 ],
 "metadata": {
  "kernelspec": {
   "display_name": "Python 3 (ipykernel)",
   "language": "python",
   "name": "python3"
  },
  "language_info": {
   "codemirror_mode": {
    "name": "ipython",
    "version": 3
   },
   "file_extension": ".py",
   "mimetype": "text/x-python",
   "name": "python",
   "nbconvert_exporter": "python",
   "pygments_lexer": "ipython3",
   "version": "3.10.4"
  }
 },
 "nbformat": 4,
 "nbformat_minor": 5
}
