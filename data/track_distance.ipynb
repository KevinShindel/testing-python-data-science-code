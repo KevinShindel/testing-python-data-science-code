{
 "cells": [
  {
   "cell_type": "code",
   "execution_count": null,
   "id": "4ba0d8e5-7c07-4fe3-82a2-4653823a2214",
   "metadata": {},
   "outputs": [],
   "source": [
    "import numpy as np\n",
    "\n",
    "\n",
    "lat_km = 92\n",
    "lng_km = 111\n",
    "\n",
    "\n",
    "def calc_distance(lat1, lng1, lat2, lng2):\n",
    "    \"\"\"Return Euclidean distance in kilometers.\"\"\"\n",
    "    delta_lat = (lat1 - lat2) * lat_km\n",
    "    delta_lng = (lng1 - lng2) * lng_km\n",
    "    return np.hypot(delta_lat, delta_lng)"
   ]
  }
 ],
 "metadata": {
  "kernelspec": {
   "display_name": "Python 3 (ipykernel)",
   "language": "python",
   "name": "python3"
  },
  "language_info": {
   "codemirror_mode": {
    "name": "ipython",
    "version": 3
   },
   "file_extension": ".py",
   "mimetype": "text/x-python",
   "name": "python",
   "nbconvert_exporter": "python",
   "pygments_lexer": "ipython3",
   "version": "3.10.4"
  }
 },
 "nbformat": 4,
 "nbformat_minor": 5
}
